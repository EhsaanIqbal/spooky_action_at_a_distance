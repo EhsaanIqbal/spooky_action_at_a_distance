{
  "nbformat": 4,
  "nbformat_minor": 0,
  "metadata": {
    "colab": {
      "name": "shrodinger.ipynb",
      "provenance": [],
      "collapsed_sections": []
    },
    "kernelspec": {
      "name": "python3",
      "display_name": "Python 3"
    }
  },
  "cells": [
    {
      "cell_type": "code",
      "metadata": {
        "id": "jJ8UZXpwGZ8h",
        "colab_type": "code",
        "colab": {
          "base_uri": "https://localhost:8080/",
          "height": 146
        },
        "outputId": "250b4101-bdf5-454a-e42e-06e97b9f1238"
      },
      "source": [
        "import qiskit as q\n",
        "%matplotlib inline\n",
        "\n",
        "#quantum circuit \n",
        "circuit = q.QuantumCircuit(2,2) #2 qubits, 2 classic bits\n",
        "circuit.x(0) \n",
        "circuit.cx(0,1) #cnot: controlled not, Flips 2nd qubit value if first cubit is 1\n",
        "circuit.measure([0,1],[0,1]) #translating qubit result to classic bit\n",
        "circuit.draw()\n"
      ],
      "execution_count": 3,
      "outputs": [
        {
          "output_type": "execute_result",
          "data": {
            "text/html": [
              "<pre style=\"word-wrap: normal;white-space: pre;background: #fff0;line-height: 1.1;font-family: &quot;Courier New&quot;,Courier,monospace\">        ┌───┐     ┌─┐   \n",
              "q_0: |0>┤ X ├──■──┤M├───\n",
              "        └───┘┌─┴─┐└╥┘┌─┐\n",
              "q_1: |0>─────┤ X ├─╫─┤M├\n",
              "             └───┘ ║ └╥┘\n",
              " c_0: 0 ═══════════╩══╬═\n",
              "                      ║ \n",
              " c_1: 0 ══════════════╩═\n",
              "                        </pre>"
            ],
            "text/plain": [
              "<qiskit.visualization.text.TextDrawing at 0x7f9b87a68470>"
            ]
          },
          "metadata": {
            "tags": []
          },
          "execution_count": 3
        }
      ]
    },
    {
      "cell_type": "code",
      "metadata": {
        "id": "I2Gev3M1Gyeu",
        "colab_type": "code",
        "colab": {}
      },
      "source": [
        "from qiskit import IBMQ\n",
        "IBMQ.save_account('0ee807ee347083992d6beb4b5ee1b510f0a708a4af570597c04b59f7df34e3f5d3829806e43462515f6323f25875fc87c978fa1736e8a420b80ea62355e23269')"
      ],
      "execution_count": 0,
      "outputs": []
    },
    {
      "cell_type": "code",
      "metadata": {
        "id": "S4d6skCLG962",
        "colab_type": "code",
        "colab": {
          "base_uri": "https://localhost:8080/",
          "height": 90
        },
        "outputId": "d72c8471-3957-4d47-d0b5-7784521bb2a5"
      },
      "source": [
        "IBMQ.load_account()"
      ],
      "execution_count": 5,
      "outputs": [
        {
          "output_type": "stream",
          "text": [
            "/usr/local/lib/python3.6/dist-packages/qiskit/providers/models/backendconfiguration.py:337: UserWarning: `dt` and `dtm` now have units of seconds(s) rather than nanoseconds(ns).\n",
            "  warnings.warn('`dt` and `dtm` now have units of seconds(s) rather '\n"
          ],
          "name": "stderr"
        },
        {
          "output_type": "execute_result",
          "data": {
            "text/plain": [
              "<AccountProvider for IBMQ(hub='ibm-q', group='open', project='main')>"
            ]
          },
          "metadata": {
            "tags": []
          },
          "execution_count": 5
        }
      ]
    },
    {
      "cell_type": "code",
      "metadata": {
        "id": "hqb1fR2tHScW",
        "colab_type": "code",
        "colab": {
          "base_uri": "https://localhost:8080/",
          "height": 176
        },
        "outputId": "f3ebff25-5827-47ff-b871-45864b8ea0d3"
      },
      "source": [
        "provider = IBMQ.get_provider(\"ibm-q\")\n",
        "\n",
        "for backend in provider.backends():\n",
        "  try:\n",
        "      qubit_count = len(backend.properties().qubits)\n",
        "  except:\n",
        "      qubit_count= \"simulated\"\n",
        "\n",
        "  print(f\"{backend.name()} has {backend.status().pending_jobs} queued and {qubit_count} qubits.\")\n"
      ],
      "execution_count": 6,
      "outputs": [
        {
          "output_type": "stream",
          "text": [
            "ibmq_qasm_simulator has 0 queued and simulated qubits.\n",
            "ibmqx2 has 3 queued and 5 qubits.\n",
            "ibmq_16_melbourne has 0 queued and 15 qubits.\n",
            "ibmq_vigo has 7 queued and 5 qubits.\n",
            "ibmq_ourense has 5 queued and 5 qubits.\n",
            "ibmq_london has 1925 queued and 5 qubits.\n",
            "ibmq_burlington has 0 queued and 5 qubits.\n",
            "ibmq_essex has 8 queued and 5 qubits.\n",
            "ibmq_armonk has 0 queued and 1 qubits.\n"
          ],
          "name": "stdout"
        }
      ]
    },
    {
      "cell_type": "code",
      "metadata": {
        "id": "u-77TQ2OIYl3",
        "colab_type": "code",
        "colab": {
          "base_uri": "https://localhost:8080/",
          "height": 34
        },
        "outputId": "d1d70a9e-cd13-4ab9-b886-800cc3e5f354"
      },
      "source": [
        "from qiskit.tools.monitor import job_monitor\n",
        "backend = provider.get_backend(\"ibmq_16_melbourne\")\n",
        "job = q.execute(circuit, backend=backend, shots=500)\n",
        "job_monitor(job)"
      ],
      "execution_count": 7,
      "outputs": [
        {
          "output_type": "stream",
          "text": [
            "Job Status: job has successfully run\n"
          ],
          "name": "stdout"
        }
      ]
    },
    {
      "cell_type": "code",
      "metadata": {
        "id": "vAG6xFcQJFzf",
        "colab_type": "code",
        "colab": {
          "base_uri": "https://localhost:8080/",
          "height": 331
        },
        "outputId": "394758a3-d8eb-43aa-fe0f-d3345e2b1483"
      },
      "source": [
        "from qiskit.visualization import plot_histogram\n",
        "from matplotlib import style\n",
        "style.use(\"dark_background\")\n",
        "\n",
        "result = job.result()\n",
        "counts = result.get_counts(circuit)\n",
        "\n",
        "plot_histogram([counts])"
      ],
      "execution_count": 10,
      "outputs": [
        {
          "output_type": "execute_result",
          "data": {
            "image/png": "[encoded data removed]",
            "text/plain": [
              "<Figure size 504x360 with 1 Axes>"
            ]
          },
          "metadata": {
            "tags": []
          },
          "execution_count": 10
        }
      ]
    },
    {
      "cell_type": "code",
      "metadata": {
        "id": "YpK11CvHJ0Re",
        "colab_type": "code",
        "colab": {}
      },
      "source": [
        ""
      ],
      "execution_count": 0,
      "outputs": []
    }
  ]
}